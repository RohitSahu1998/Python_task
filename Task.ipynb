{
 "cells": [
  {
   "cell_type": "code",
   "execution_count": 1,
   "id": "eb29d024",
   "metadata": {},
   "outputs": [
    {
     "name": "stdout",
     "output_type": "stream",
     "text": [
      "First Combination for 4:  [[1, 3], [2, 2], [2, -6], [-4, 8]]\n",
      "Merged into single Array:  [-6, -4, 1, 2, 2, 2, 3, 8]\n"
     ]
    }
   ],
   "source": [
    "# values = list(map(int,input().split()))\n",
    "# n = int(input())\n",
    "values = [1, 3, 2, 2, -4, -6, -2, 8]\n",
    "n =4\n",
    "ans = []\n",
    "for i in range(0,len(values)):\n",
    "    for j in range(i+1,len(values)):\n",
    "        if abs(values[i]+values[j]) == n:\n",
    "            if ([values[i],values[j]]) not in ans:\n",
    "                ans.append([values[i],values[j]])\n",
    "print(\"First Combination for 4: \",ans)\n",
    "ans = [j for i in ans for j in i]\n",
    "ans.sort()\n",
    "print(\"Merged into single Array: \",ans)\n",
    "\n"
   ]
  },
  {
   "cell_type": "code",
   "execution_count": null,
   "id": "f41d6b6e",
   "metadata": {},
   "outputs": [],
   "source": []
  }
 ],
 "metadata": {
  "kernelspec": {
   "display_name": "Python 3 (ipykernel)",
   "language": "python",
   "name": "python3"
  },
  "language_info": {
   "codemirror_mode": {
    "name": "ipython",
    "version": 3
   },
   "file_extension": ".py",
   "mimetype": "text/x-python",
   "name": "python",
   "nbconvert_exporter": "python",
   "pygments_lexer": "ipython3",
   "version": "3.9.12"
  }
 },
 "nbformat": 4,
 "nbformat_minor": 5
}
